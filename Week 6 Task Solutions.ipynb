{
 "cells": [
  {
   "cell_type": "markdown",
   "id": "644e74d1-7750-4f87-9758-b2a4d369ddd9",
   "metadata": {},
   "source": [
    "# Week 6 Tasks: NYT API Data and Cosine Similarity for Text \n",
    "\n",
    "These tasks were discussed during week 6 and you had to work on them with your group.  \n",
    "Below are the solutions and additional tasks that will be helpful for your project.\n",
    "\n",
    "**Table of Content**\n",
    "* [Part 1: Working with the NYT API](#sec1)\n",
    "* [Part 2: Cosine Similarity for Text](#sec2)\n",
    "* [Part 3: Similarity of Spring and Summer sentences](#sec3)"
   ]
  },
  {
   "cell_type": "markdown",
   "id": "47288b9e-1d91-4df6-8c98-01d8082c6172",
   "metadata": {},
   "source": [
    "<a id=\"sec1\"></a>\n",
    "## Part 1: Working with the NYT API \n",
    "\n",
    "We have the following goals:\n",
    "\n",
    "1. Use the API to get all articles from a month\n",
    "2. Verify the number of articles\n",
    "3. Find the distribution of articles by section"
   ]
  },
  {
   "cell_type": "markdown",
   "id": "2ed5235f-e011-42c5-afcd-4678c615fcf1",
   "metadata": {},
   "source": [
    "### Important: replace the string below with your API key"
   ]
  },
  {
   "cell_type": "code",
   "execution_count": 2,
   "id": "5eded646-a519-4488-9efb-dd5e68c1d473",
   "metadata": {},
   "outputs": [],
   "source": [
    "myAPIkey = \"NzVH8msxSDOGG54GuhjUj2O6o3bTYPAc\""
   ]
  },
  {
   "cell_type": "markdown",
   "id": "28d637cf-7eac-45b1-b6c9-a3c28dd06813",
   "metadata": {},
   "source": [
    "We will write a function that given a date (month and year) will talk to the NYT API and get the articles for that time period. We will store the results in a JSON file to process when needed. "
   ]
  },
  {
   "cell_type": "code",
   "execution_count": 3,
   "id": "977e6acc-2c29-43ec-8f9a-99de35b5eeda",
   "metadata": {},
   "outputs": [],
   "source": [
    "import requests, json\n",
    "\n",
    "def getNYTArticles(year, month, apiKey):\n",
    "    \"\"\"Function that sends a request to the NYT API for all articles in a month\n",
    "    and then stores the results in a JSON file.\n",
    "    \"\"\"\n",
    "    # create URL\n",
    "    URL = f\"https://api.nytimes.com/svc/archive/v1/{year}/{month}.json?api-key={apiKey}\"\n",
    "\n",
    "    # send the request to get the data\n",
    "    data = requests.get(URL)\n",
    "    if data.status_code == 200:\n",
    "        print(\"Successfully got the data.\")\n",
    "\n",
    "    dataJson = data.json() # get response as JSON\n",
    "\n",
    "    with open(f\"NYT_{year}-{month}.json\", 'w') as fout:\n",
    "        json.dump(dataJson, fout)"
   ]
  },
  {
   "cell_type": "markdown",
   "id": "cab5a98c-0641-4336-8d34-35c626579eab",
   "metadata": {},
   "source": [
    "Let's test the function for the months of February 2024:"
   ]
  },
  {
   "cell_type": "code",
   "execution_count": 4,
   "id": "eef9ff83-df33-4037-ad86-b029bd53116f",
   "metadata": {},
   "outputs": [
    {
     "name": "stdout",
     "output_type": "stream",
     "text": [
      "Successfully got the data.\n"
     ]
    }
   ],
   "source": [
    "getNYTArticles(2024, 2, myAPIkey)"
   ]
  },
  {
   "cell_type": "markdown",
   "id": "dff1d927-2713-4a74-9d2d-05cfde14e136",
   "metadata": {},
   "source": [
    "## Explore the NYT Data\n",
    "\n",
    "Now that we have the data, we will look into how to retrieve things like article title, section, etc."
   ]
  },
  {
   "cell_type": "code",
   "execution_count": 5,
   "id": "75d2c5c4-696d-4518-a513-443d3db5fd85",
   "metadata": {},
   "outputs": [
    {
     "name": "stdout",
     "output_type": "stream",
     "text": [
      "<class 'dict'>\n"
     ]
    }
   ],
   "source": [
    "with open(\"NYT_2024-2.json\") as fin:\n",
    "    articles = json.load(fin)\n",
    "\n",
    "print(type(articles))"
   ]
  },
  {
   "cell_type": "markdown",
   "id": "dfe47492-d11a-45d4-b1a9-3ebf1aeed9cf",
   "metadata": {},
   "source": [
    "We can check the keys of this dictionary:"
   ]
  },
  {
   "cell_type": "code",
   "execution_count": 6,
   "id": "b32c6639-9d09-47e0-8299-b1733379e50e",
   "metadata": {},
   "outputs": [
    {
     "data": {
      "text/plain": [
       "dict_keys(['copyright', 'response'])"
      ]
     },
     "execution_count": 6,
     "metadata": {},
     "output_type": "execute_result"
    }
   ],
   "source": [
    "articles.keys()"
   ]
  },
  {
   "cell_type": "markdown",
   "id": "9414a10a-b15a-44b4-805f-70877b0f6c3f",
   "metadata": {},
   "source": [
    "Then we check what values are stored under each key, without printing the values, but checking for their type:"
   ]
  },
  {
   "cell_type": "code",
   "execution_count": 7,
   "id": "86c542d6-248d-40aa-a580-443f4b68aa33",
   "metadata": {},
   "outputs": [
    {
     "name": "stdout",
     "output_type": "stream",
     "text": [
      "copyright <class 'str'>\n",
      "response <class 'dict'>\n"
     ]
    }
   ],
   "source": [
    "for key in articles:\n",
    "    print(key, type(articles[key]))"
   ]
  },
  {
   "cell_type": "code",
   "execution_count": 8,
   "id": "133b5d15-0bac-47c0-8acd-57a4e3d0f659",
   "metadata": {},
   "outputs": [
    {
     "data": {
      "text/plain": [
       "'Copyright (c) 2024 The New York Times Company. All Rights Reserved.'"
      ]
     },
     "execution_count": 8,
     "metadata": {},
     "output_type": "execute_result"
    }
   ],
   "source": [
    "articles['copyright']"
   ]
  },
  {
   "cell_type": "markdown",
   "id": "f9a7ac7a-003a-4413-ad3d-aaaa4f893c24",
   "metadata": {},
   "source": [
    "Let's look at the keys for 'response':"
   ]
  },
  {
   "cell_type": "code",
   "execution_count": 9,
   "id": "27f21c0e-0fd0-45b1-b80b-d82cd6672472",
   "metadata": {},
   "outputs": [
    {
     "data": {
      "text/plain": [
       "dict_keys(['docs', 'meta'])"
      ]
     },
     "execution_count": 9,
     "metadata": {},
     "output_type": "execute_result"
    }
   ],
   "source": [
    "articles['response'].keys()"
   ]
  },
  {
   "cell_type": "markdown",
   "id": "27d43299-30db-404b-a80d-1ed2c75fc453",
   "metadata": {},
   "source": [
    "One more time, we look what kind of information is stored under each of these keys:"
   ]
  },
  {
   "cell_type": "code",
   "execution_count": 10,
   "id": "8affb171-a949-4507-928d-bde3c03ca065",
   "metadata": {},
   "outputs": [
    {
     "name": "stdout",
     "output_type": "stream",
     "text": [
      "docs <class 'list'>\n",
      "meta <class 'dict'>\n"
     ]
    }
   ],
   "source": [
    "for key in articles['response']:\n",
    "    print(key, type(articles['response'][key]))"
   ]
  },
  {
   "cell_type": "code",
   "execution_count": 11,
   "id": "13648859-3869-4274-98ca-4ed39e8ebc10",
   "metadata": {},
   "outputs": [
    {
     "data": {
      "text/plain": [
       "{'hits': 3791}"
      ]
     },
     "execution_count": 11,
     "metadata": {},
     "output_type": "execute_result"
    }
   ],
   "source": [
    "# what is under the \"meta\" key?\n",
    "\n",
    "articles['response']['meta']"
   ]
  },
  {
   "cell_type": "markdown",
   "id": "eeac6aee-0f8a-4ac2-a51d-eb57cad8664d",
   "metadata": {},
   "source": [
    "So, this shows how many articles are in the data. We can verify this:"
   ]
  },
  {
   "cell_type": "code",
   "execution_count": 12,
   "id": "22f30f73-eb9e-4865-801d-54fb7452eba5",
   "metadata": {},
   "outputs": [
    {
     "data": {
      "text/plain": [
       "3791"
      ]
     },
     "execution_count": 12,
     "metadata": {},
     "output_type": "execute_result"
    }
   ],
   "source": [
    "len(articles['response']['docs'])"
   ]
  },
  {
   "cell_type": "markdown",
   "id": "40b437bb-dc0d-4162-8369-ce547030d873",
   "metadata": {},
   "source": [
    "It's the same number, which is a good thing. Now let's look at what one of the articles (or docs) looks like:"
   ]
  },
  {
   "cell_type": "code",
   "execution_count": 13,
   "id": "085e6715-f6ec-4d9a-bdd6-23cb86fee3a6",
   "metadata": {},
   "outputs": [
    {
     "data": {
      "text/plain": [
       "{'abstract': 'Periods of backlash take shape after surges of Black progress. We have entered another such period.',\n",
       " 'web_url': 'https://www.nytimes.com/2024/01/31/opinion/racist-backlash-history.html',\n",
       " 'snippet': 'Periods of backlash take shape after surges of Black progress. We have entered another such period.',\n",
       " 'lead_paragraph': 'I am fascinated, and alarmed, by the swiftness with which periods of backlash take shape after surges of Black progress, and I believe that we have entered another such period.',\n",
       " 'print_section': 'A',\n",
       " 'print_page': '21',\n",
       " 'source': 'The New York Times',\n",
       " 'multimedia': [{'rank': 0,\n",
       "   'subtype': 'xlarge',\n",
       "   'caption': None,\n",
       "   'credit': None,\n",
       "   'type': 'image',\n",
       "   'url': 'images/2024/02/01/multimedia/31blow1-hvfq/31blow1-hvfq-articleLarge.jpg',\n",
       "   'height': 800,\n",
       "   'width': 600,\n",
       "   'subType': 'xlarge',\n",
       "   'crop_name': 'articleLarge',\n",
       "   'legacy': {'xlarge': 'images/2024/02/01/multimedia/31blow1-hvfq/31blow1-hvfq-articleLarge.jpg',\n",
       "    'xlargewidth': 600,\n",
       "    'xlargeheight': 800}},\n",
       "  {'rank': 0,\n",
       "   'subtype': 'jumbo',\n",
       "   'caption': None,\n",
       "   'credit': None,\n",
       "   'type': 'image',\n",
       "   'url': 'images/2024/02/01/multimedia/31blow1-hvfq/31blow1-hvfq-jumbo.jpg',\n",
       "   'height': 1024,\n",
       "   'width': 768,\n",
       "   'subType': 'jumbo',\n",
       "   'crop_name': 'jumbo',\n",
       "   'legacy': {}},\n",
       "  {'rank': 0,\n",
       "   'subtype': 'superJumbo',\n",
       "   'caption': None,\n",
       "   'credit': None,\n",
       "   'type': 'image',\n",
       "   'url': 'images/2024/02/01/multimedia/31blow1-hvfq/31blow1-hvfq-superJumbo.jpg',\n",
       "   'height': 2048,\n",
       "   'width': 1536,\n",
       "   'subType': 'superJumbo',\n",
       "   'crop_name': 'superJumbo',\n",
       "   'legacy': {}},\n",
       "  {'rank': 0,\n",
       "   'subtype': 'thumbnail',\n",
       "   'caption': None,\n",
       "   'credit': None,\n",
       "   'type': 'image',\n",
       "   'url': 'images/2024/02/01/multimedia/31blow1-hvfq/31blow1-hvfq-thumbStandard.jpg',\n",
       "   'height': 75,\n",
       "   'width': 75,\n",
       "   'subType': 'thumbnail',\n",
       "   'crop_name': 'thumbStandard',\n",
       "   'legacy': {'thumbnail': 'images/2024/02/01/multimedia/31blow1-hvfq/31blow1-hvfq-thumbStandard.jpg',\n",
       "    'thumbnailwidth': 75,\n",
       "    'thumbnailheight': 75}},\n",
       "  {'rank': 0,\n",
       "   'subtype': 'thumbLarge',\n",
       "   'caption': None,\n",
       "   'credit': None,\n",
       "   'type': 'image',\n",
       "   'url': 'images/2024/02/01/multimedia/31blow1-hvfq/31blow1-hvfq-thumbLarge.jpg',\n",
       "   'height': 150,\n",
       "   'width': 150,\n",
       "   'subType': 'thumbLarge',\n",
       "   'crop_name': 'thumbLarge',\n",
       "   'legacy': {}}],\n",
       " 'headline': {'main': 'The Dawn of a New Era of Oppression',\n",
       "  'kicker': 'Charles M. Blow',\n",
       "  'content_kicker': None,\n",
       "  'print_headline': 'The Dawn of a New Era of Oppression',\n",
       "  'name': None,\n",
       "  'seo': None,\n",
       "  'sub': None},\n",
       " 'keywords': [{'name': 'subject',\n",
       "   'value': 'Hate Crimes',\n",
       "   'rank': 1,\n",
       "   'major': 'N'},\n",
       "  {'name': 'subject', 'value': 'Black People', 'rank': 2, 'major': 'N'},\n",
       "  {'name': 'subject', 'value': 'Blacks', 'rank': 3, 'major': 'N'},\n",
       "  {'name': 'subject', 'value': 'Discrimination', 'rank': 4, 'major': 'N'},\n",
       "  {'name': 'subject',\n",
       "   'value': 'Civil Rights Movement (1954-68)',\n",
       "   'rank': 5,\n",
       "   'major': 'N'},\n",
       "  {'name': 'subject', 'value': 'Reconstruction Era', 'rank': 6, 'major': 'N'},\n",
       "  {'name': 'subject',\n",
       "   'value': 'Segregation and Desegregation',\n",
       "   'rank': 7,\n",
       "   'major': 'N'},\n",
       "  {'name': 'persons',\n",
       "   'value': 'Nixon, Richard Milhous',\n",
       "   'rank': 8,\n",
       "   'major': 'N'}],\n",
       " 'pub_date': '2024-02-01T00:00:08+0000',\n",
       " 'document_type': 'article',\n",
       " 'news_desk': 'OpEd',\n",
       " 'section_name': 'Opinion',\n",
       " 'byline': {'original': 'By Charles M. Blow',\n",
       "  'person': [{'firstname': 'Charles',\n",
       "    'middlename': None,\n",
       "    'lastname': '',\n",
       "    'qualifier': None,\n",
       "    'title': None,\n",
       "    'role': 'reported',\n",
       "    'organization': '',\n",
       "    'rank': 1}],\n",
       "  'organization': None},\n",
       " 'type_of_material': 'Op-Ed',\n",
       " '_id': 'nyt://article/f2a4bafd-6333-5aee-8bd7-08fa9572ec5e',\n",
       " 'word_count': 928,\n",
       " 'uri': 'nyt://article/f2a4bafd-6333-5aee-8bd7-08fa9572ec5e'}"
      ]
     },
     "execution_count": 13,
     "metadata": {},
     "output_type": "execute_result"
    }
   ],
   "source": [
    "articles['response']['docs'][0] # using indexing, because we know that the data is stored in a list"
   ]
  },
  {
   "cell_type": "markdown",
   "id": "e50978e8-b3aa-41c5-b549-4b4f99941214",
   "metadata": {},
   "source": [
    "We can see tha an article is a somewhat nested data structure, it's a dictionary, but many of the keys point to list of other dictionaries. Let's look at the top fields: "
   ]
  },
  {
   "cell_type": "code",
   "execution_count": 14,
   "id": "48c0c987-974d-4e76-aa5e-afb05fa33ff2",
   "metadata": {},
   "outputs": [
    {
     "name": "stdout",
     "output_type": "stream",
     "text": [
      "abstract <class 'str'>\n",
      "web_url <class 'str'>\n",
      "snippet <class 'str'>\n",
      "lead_paragraph <class 'str'>\n",
      "print_section <class 'str'>\n",
      "print_page <class 'str'>\n",
      "source <class 'str'>\n",
      "multimedia <class 'list'>\n",
      "headline <class 'dict'>\n",
      "keywords <class 'list'>\n",
      "pub_date <class 'str'>\n",
      "document_type <class 'str'>\n",
      "news_desk <class 'str'>\n",
      "section_name <class 'str'>\n",
      "byline <class 'dict'>\n",
      "type_of_material <class 'str'>\n",
      "_id <class 'str'>\n",
      "word_count <class 'int'>\n",
      "uri <class 'str'>\n"
     ]
    }
   ],
   "source": [
    "oneArticle = articles['response']['docs'][0]\n",
    "for key in oneArticle:\n",
    "    print(key, type(oneArticle[key]))"
   ]
  },
  {
   "cell_type": "markdown",
   "id": "7ccc22ee-0748-4850-bc23-272d0dbc6340",
   "metadata": {},
   "source": [
    "### Find the distribution of articles by section\n",
    "\n",
    "As we saw above, every article has a section name, so we can easily collect all those names:"
   ]
  },
  {
   "cell_type": "code",
   "execution_count": 15,
   "id": "83e0f050-8a06-45a6-b33d-b6b2a485abc1",
   "metadata": {},
   "outputs": [
    {
     "data": {
      "text/plain": [
       "['Opinion', 'New York', 'Opinion', 'World', 'U.S.']"
      ]
     },
     "execution_count": 15,
     "metadata": {},
     "output_type": "execute_result"
    }
   ],
   "source": [
    "sections = [article['section_name'] for article in articles['response']['docs']]\n",
    "\n",
    "# Let's look up a few of them\n",
    "sections[:5]"
   ]
  },
  {
   "cell_type": "code",
   "execution_count": 16,
   "id": "9890db0b-3c4f-46a1-8338-b31a4cf4acb4",
   "metadata": {},
   "outputs": [
    {
     "data": {
      "text/plain": [
       "[('U.S.', 734),\n",
       " ('World', 513),\n",
       " ('Arts', 326),\n",
       " ('Opinion', 272),\n",
       " ('Business Day', 244),\n",
       " ('New York', 200),\n",
       " ('Style', 174),\n",
       " ('Books', 139),\n",
       " ('Crosswords & Games', 125),\n",
       " ('Movies', 123)]"
      ]
     },
     "execution_count": 16,
     "metadata": {},
     "output_type": "execute_result"
    }
   ],
   "source": [
    "from collections import Counter\n",
    "\n",
    "distDct = Counter(sections) # count the occurrences of each section name\n",
    "\n",
    "distDct.most_common(10)"
   ]
  },
  {
   "cell_type": "markdown",
   "id": "f383daa6-b200-45dd-a49f-fdf15f040518",
   "metadata": {},
   "source": [
    "## Tasks for you:\n",
    "\n",
    "1. Write a Python function that takes a date, for example, \"2024-02-12\", and returns the list of articles for that day.\n",
    "2. Write some code that explores whether the fields \"abstract\" and \"snippet\" are always the same or they differ. Which one has more information?\n",
    "3. Write a function that given one article (in its nested structure), creates a flat dictionary with keys that are relevant for analysis: either the abstract or snippet (see point 2); lead paragraph; headline; keywords concatenated via semicolon; pub_date; document_type; section_name; and type_of_material\n",
    "4. Write another function that calls the function from point 3 on every article, to create a list of article dictionaries, and convert this list into a dataframe and then store it as a CSV file with the date-month in the title (this is important for point 5 below).\n",
    "5. Once you have done all of these in the notebook, create a Python script that can be called with a date (from a TikTok video). First, the script looks whether a CSV with cleaned articles is in our folder. If not, calls first the API function to get the articles and then the function that converts them into a CSV. Then, it loads the CSV into a datafram and it uses filtering to get the articles for the desired date. These articles will be used for the Semantic Similarity portion of the TikTok Project."
   ]
  },
  {
   "cell_type": "code",
   "execution_count": 59,
   "id": "0cb2581b-de88-4e84-8a1c-cb0287025661",
   "metadata": {},
   "outputs": [],
   "source": [
    "#Task 1\n",
    "\n",
    "def getArticleList(year, month, day, apiKey):\n",
    "    \"\"\"Function that sends a request to the NYT API for all articles in a month\n",
    "    and then stores the results in a JSON file.\n",
    "    \"\"\"\n",
    "    # create URL\n",
    "    URL = f\"https://api.nytimes.com/svc/archive/v1/{year}/{month}.json?api-key={apiKey}\"\n",
    "\n",
    "    # send the request to get the data\n",
    "    data = requests.get(URL)\n",
    "    if data.status_code == 200:\n",
    "        print(\"Successfully got the data.\")\n",
    "        dataJson = data.json() # get response as JSON\n",
    "    else:\n",
    "        return {}\n",
    "    \n",
    "    if day < 10:\n",
    "        day = '0' + str(day)\n",
    "    if month < 10:\n",
    "        month = '0' + str(month)\n",
    "    \n",
    "    allArticles = dataJson['response']['docs']\n",
    "    dayArticles = [article for article in allArticles if article['pub_date'].split('T')[0]==f\"{year}-{month}-{day}\"]\n",
    "    \n",
    "    return dayArticles"
   ]
  },
  {
   "cell_type": "code",
   "execution_count": 35,
   "id": "9e6a68c4-e845-4fae-b891-43d64ebb1acd",
   "metadata": {
    "scrolled": true
   },
   "outputs": [
    {
     "name": "stdout",
     "output_type": "stream",
     "text": [
      "Successfully got the data.\n"
     ]
    }
   ],
   "source": [
    "articles = getArticleList(2024, 2, 1, myAPIkey)"
   ]
  },
  {
   "cell_type": "code",
   "execution_count": 42,
   "id": "e1404730",
   "metadata": {},
   "outputs": [
    {
     "name": "stdout",
     "output_type": "stream",
     "text": [
      "1.0\n"
     ]
    }
   ],
   "source": [
    "#Task 2 - exploring Snippet vs. Abstract. They appear to be the same.\n",
    "\n",
    "equalCount = 0\n",
    "for article in articles:\n",
    "    if len(article['snippet']) == len(article['abstract']):\n",
    "        equalCount += 1\n",
    "    else:\n",
    "        print(max(len(article['snippet']), len(article['abstract'])))\n",
    "print(equalCount/len(articles)) #print the percentage of articles with equal length Snippet and Abstract sections"
   ]
  },
  {
   "cell_type": "code",
   "execution_count": 46,
   "id": "40948190",
   "metadata": {},
   "outputs": [],
   "source": [
    "#Task 3\n",
    "\n",
    "def cleanArticle(article):\n",
    "    keywords = ''\n",
    "    for keyword in article['keywords']:\n",
    "        keywords += keyword['value']+';'\n",
    "    articleDict = {'abstract': article['abstract'], 'lead_paragraph': article['lead_paragraph'],\n",
    "                  'headline': article['headline']['main'], 'keywords': keywords,\n",
    "                  'pub_date': article['pub_date'], 'document_type': article['document_type'],\n",
    "                  'section_name': article['section_name'], 'type_of_material': article['type_of_material']}\n",
    "    return articleDict"
   ]
  },
  {
   "cell_type": "code",
   "execution_count": 47,
   "id": "5d64aa6e",
   "metadata": {},
   "outputs": [
    {
     "name": "stdout",
     "output_type": "stream",
     "text": [
      "{'abstract': 'Periods of backlash take shape after surges of Black progress. We have entered another such period.', 'lead_paragraph': 'I am fascinated, and alarmed, by the swiftness with which periods of backlash take shape after surges of Black progress, and I believe that we have entered another such period.', 'headline': 'The Dawn of a New Era of Oppression', 'keywords': 'Hate Crimes;Black People;Blacks;Discrimination;Civil Rights Movement (1954-68);Reconstruction Era;Segregation and Desegregation;Nixon, Richard Milhous;', 'pub_date': '2024-02-01T00:00:08+0000', 'document_type': 'article', 'section_name': 'Opinion', 'type_of_material': 'Op-Ed'}\n"
     ]
    }
   ],
   "source": [
    "sample_article = cleanArticle(articles[0])\n",
    "print(sample_article)"
   ]
  },
  {
   "cell_type": "code",
   "execution_count": 50,
   "id": "c0d80855",
   "metadata": {},
   "outputs": [],
   "source": [
    "#Task 4\n",
    "\n",
    "import pandas as pd\n",
    "\n",
    "def cleanAllArticles(articleList, year, month, day):\n",
    "    cleaned = [cleanArticle(article) for article in articleList]\n",
    "    articleDF = pd.DataFrame(cleaned)\n",
    "    \n",
    "    if day < 10:\n",
    "        day = '0' + str(day)\n",
    "    if month < 10:\n",
    "        month = '0' + str(month)\n",
    "    \n",
    "    articleDF.to_csv(f'NYTarticles_{year}-{month}-{day}.csv')    "
   ]
  },
  {
   "cell_type": "code",
   "execution_count": 51,
   "id": "9991f620",
   "metadata": {},
   "outputs": [],
   "source": [
    "cleanAllArticles(articles, 2024, 2, 1)"
   ]
  },
  {
   "cell_type": "code",
   "execution_count": 65,
   "id": "9a981749",
   "metadata": {},
   "outputs": [],
   "source": [
    "#Task 5\n",
    "import os\n",
    "\n",
    "def getArticlesForDate(year, month, day):\n",
    "    m = month\n",
    "    d = day\n",
    "    if d < 10:\n",
    "        d = '0' + str(d)\n",
    "    if m < 10:\n",
    "        m = '0' + str(m)\n",
    "    if os.path.exists(f'NYTarticles_{year}-{m}-{d}') == False:\n",
    "        articles = getArticleList(year, month, day, myAPIkey)\n",
    "        cleanAllArticles(articles, year, month, day)\n",
    "    articleDF = pd.read_csv(f'NYTarticles_{year}-{m}-{d}.csv')\n",
    "    return articleDF\n"
   ]
  },
  {
   "cell_type": "code",
   "execution_count": 66,
   "id": "117ea246",
   "metadata": {},
   "outputs": [
    {
     "name": "stdout",
     "output_type": "stream",
     "text": [
      "Successfully got the data.\n"
     ]
    },
    {
     "data": {
      "text/html": [
       "<div>\n",
       "<style scoped>\n",
       "    .dataframe tbody tr th:only-of-type {\n",
       "        vertical-align: middle;\n",
       "    }\n",
       "\n",
       "    .dataframe tbody tr th {\n",
       "        vertical-align: top;\n",
       "    }\n",
       "\n",
       "    .dataframe thead th {\n",
       "        text-align: right;\n",
       "    }\n",
       "</style>\n",
       "<table border=\"1\" class=\"dataframe\">\n",
       "  <thead>\n",
       "    <tr style=\"text-align: right;\">\n",
       "      <th></th>\n",
       "      <th>Unnamed: 0</th>\n",
       "      <th>abstract</th>\n",
       "      <th>lead_paragraph</th>\n",
       "      <th>headline</th>\n",
       "      <th>keywords</th>\n",
       "      <th>pub_date</th>\n",
       "      <th>document_type</th>\n",
       "      <th>section_name</th>\n",
       "      <th>type_of_material</th>\n",
       "    </tr>\n",
       "  </thead>\n",
       "  <tbody>\n",
       "    <tr>\n",
       "      <th>0</th>\n",
       "      <td>0</td>\n",
       "      <td>Periods of backlash take shape after surges of...</td>\n",
       "      <td>I am fascinated, and alarmed, by the swiftness...</td>\n",
       "      <td>The Dawn of a New Era of Oppression</td>\n",
       "      <td>Hate Crimes;Black People;Blacks;Discrimination...</td>\n",
       "      <td>2024-02-01T00:00:08+0000</td>\n",
       "      <td>article</td>\n",
       "      <td>Opinion</td>\n",
       "      <td>Op-Ed</td>\n",
       "    </tr>\n",
       "    <tr>\n",
       "      <th>1</th>\n",
       "      <td>1</td>\n",
       "      <td>The sentencing judge called Ralph Joseph Celen...</td>\n",
       "      <td>A Queens man who tackled a police officer and ...</td>\n",
       "      <td>Man Who Pushed Officer Over Ledge on Jan. 6 Is...</td>\n",
       "      <td>Storming of the US Capitol (Jan, 2021);Celenta...</td>\n",
       "      <td>2024-02-01T00:02:20+0000</td>\n",
       "      <td>article</td>\n",
       "      <td>New York</td>\n",
       "      <td>News</td>\n",
       "    </tr>\n",
       "    <tr>\n",
       "      <th>2</th>\n",
       "      <td>2</td>\n",
       "      <td>Don’t be an election spoiler.</td>\n",
       "      <td>Think I have something good to report, people....</td>\n",
       "      <td>Running for President Is Not a Hobby</td>\n",
       "      <td>Presidential Election of 2024;Third-Party Poli...</td>\n",
       "      <td>2024-02-01T00:03:34+0000</td>\n",
       "      <td>article</td>\n",
       "      <td>Opinion</td>\n",
       "      <td>Op-Ed</td>\n",
       "    </tr>\n",
       "    <tr>\n",
       "      <th>3</th>\n",
       "      <td>3</td>\n",
       "      <td>The judge, after expressing regret that he was...</td>\n",
       "      <td>A federal judge on Wednesday dismissed a lawsu...</td>\n",
       "      <td>A federal judge dismisses a suit to block U.S....</td>\n",
       "      <td>Gaza Strip;Israel;Austin, Lloyd J III;Biden, J...</td>\n",
       "      <td>2024-02-01T00:53:17+0000</td>\n",
       "      <td>article</td>\n",
       "      <td>World</td>\n",
       "      <td>News</td>\n",
       "    </tr>\n",
       "    <tr>\n",
       "      <th>4</th>\n",
       "      <td>4</td>\n",
       "      <td>The total, which does not indicate how much sh...</td>\n",
       "      <td>Nikki Haley, the last candidate standing betwe...</td>\n",
       "      <td>Haley Entered 2024 With $14.6 Million, Fueling...</td>\n",
       "      <td>Haley, Nikki R;Campaign Finance;Presidential E...</td>\n",
       "      <td>2024-02-01T02:53:26+0000</td>\n",
       "      <td>article</td>\n",
       "      <td>U.S.</td>\n",
       "      <td>News</td>\n",
       "    </tr>\n",
       "    <tr>\n",
       "      <th>...</th>\n",
       "      <td>...</td>\n",
       "      <td>...</td>\n",
       "      <td>...</td>\n",
       "      <td>...</td>\n",
       "      <td>...</td>\n",
       "      <td>...</td>\n",
       "      <td>...</td>\n",
       "      <td>...</td>\n",
       "      <td>...</td>\n",
       "    </tr>\n",
       "    <tr>\n",
       "      <th>169</th>\n",
       "      <td>169</td>\n",
       "      <td>The Senate majority leader promised a test vot...</td>\n",
       "      <td>Senator Chuck Schumer, Democrat of New York an...</td>\n",
       "      <td>Schumer Plans Vote Next Week on Border and Ukr...</td>\n",
       "      <td>United States Politics and Government;Law and ...</td>\n",
       "      <td>2024-02-01T22:54:25+0000</td>\n",
       "      <td>article</td>\n",
       "      <td>U.S.</td>\n",
       "      <td>News</td>\n",
       "    </tr>\n",
       "    <tr>\n",
       "      <th>170</th>\n",
       "      <td>170</td>\n",
       "      <td>Also, the world’s largest record label pulled ...</td>\n",
       "      <td>At an emergency summit today in Brussels, Euro...</td>\n",
       "      <td>The E.U. Agreed to Aid Ukraine, Shifting Focus...</td>\n",
       "      <td>NaN</td>\n",
       "      <td>2024-02-01T23:06:32+0000</td>\n",
       "      <td>article</td>\n",
       "      <td>Briefing</td>\n",
       "      <td>News</td>\n",
       "    </tr>\n",
       "    <tr>\n",
       "      <th>171</th>\n",
       "      <td>171</td>\n",
       "      <td>The White House announced financial penalties ...</td>\n",
       "      <td>President Biden imposed financial sanctions on...</td>\n",
       "      <td>What to Know About the 4 Israelis Placed Under...</td>\n",
       "      <td>Israel-Gaza War (2023- );West Bank;Embargoes a...</td>\n",
       "      <td>2024-02-01T23:27:46+0000</td>\n",
       "      <td>article</td>\n",
       "      <td>World</td>\n",
       "      <td>News</td>\n",
       "    </tr>\n",
       "    <tr>\n",
       "      <th>172</th>\n",
       "      <td>172</td>\n",
       "      <td>Impeachment was once seen as perhaps the most ...</td>\n",
       "      <td>If the House follows through on this week’s co...</td>\n",
       "      <td>Inside Impeachment’s Rise as a Weapon of Parti...</td>\n",
       "      <td>Impeachment;Republican Party;House of Represen...</td>\n",
       "      <td>2024-02-01T23:34:55+0000</td>\n",
       "      <td>article</td>\n",
       "      <td>U.S.</td>\n",
       "      <td>News Analysis</td>\n",
       "    </tr>\n",
       "    <tr>\n",
       "      <th>173</th>\n",
       "      <td>173</td>\n",
       "      <td>Alan Winston Filion, 17, of Lancaster, Calif.,...</td>\n",
       "      <td>A California teenager believed to be behind do...</td>\n",
       "      <td>Teen Accused of Swatting Call at Florida Mosqu...</td>\n",
       "      <td>Swatting (Crime);Seminole County (Fla);Sanford...</td>\n",
       "      <td>2024-02-01T23:49:04+0000</td>\n",
       "      <td>article</td>\n",
       "      <td>U.S.</td>\n",
       "      <td>News</td>\n",
       "    </tr>\n",
       "  </tbody>\n",
       "</table>\n",
       "<p>174 rows × 9 columns</p>\n",
       "</div>"
      ],
      "text/plain": [
       "     Unnamed: 0                                           abstract  \\\n",
       "0             0  Periods of backlash take shape after surges of...   \n",
       "1             1  The sentencing judge called Ralph Joseph Celen...   \n",
       "2             2                      Don’t be an election spoiler.   \n",
       "3             3  The judge, after expressing regret that he was...   \n",
       "4             4  The total, which does not indicate how much sh...   \n",
       "..          ...                                                ...   \n",
       "169         169  The Senate majority leader promised a test vot...   \n",
       "170         170  Also, the world’s largest record label pulled ...   \n",
       "171         171  The White House announced financial penalties ...   \n",
       "172         172  Impeachment was once seen as perhaps the most ...   \n",
       "173         173  Alan Winston Filion, 17, of Lancaster, Calif.,...   \n",
       "\n",
       "                                        lead_paragraph  \\\n",
       "0    I am fascinated, and alarmed, by the swiftness...   \n",
       "1    A Queens man who tackled a police officer and ...   \n",
       "2    Think I have something good to report, people....   \n",
       "3    A federal judge on Wednesday dismissed a lawsu...   \n",
       "4    Nikki Haley, the last candidate standing betwe...   \n",
       "..                                                 ...   \n",
       "169  Senator Chuck Schumer, Democrat of New York an...   \n",
       "170  At an emergency summit today in Brussels, Euro...   \n",
       "171  President Biden imposed financial sanctions on...   \n",
       "172  If the House follows through on this week’s co...   \n",
       "173  A California teenager believed to be behind do...   \n",
       "\n",
       "                                              headline  \\\n",
       "0                  The Dawn of a New Era of Oppression   \n",
       "1    Man Who Pushed Officer Over Ledge on Jan. 6 Is...   \n",
       "2                 Running for President Is Not a Hobby   \n",
       "3    A federal judge dismisses a suit to block U.S....   \n",
       "4    Haley Entered 2024 With $14.6 Million, Fueling...   \n",
       "..                                                 ...   \n",
       "169  Schumer Plans Vote Next Week on Border and Ukr...   \n",
       "170  The E.U. Agreed to Aid Ukraine, Shifting Focus...   \n",
       "171  What to Know About the 4 Israelis Placed Under...   \n",
       "172  Inside Impeachment’s Rise as a Weapon of Parti...   \n",
       "173  Teen Accused of Swatting Call at Florida Mosqu...   \n",
       "\n",
       "                                              keywords  \\\n",
       "0    Hate Crimes;Black People;Blacks;Discrimination...   \n",
       "1    Storming of the US Capitol (Jan, 2021);Celenta...   \n",
       "2    Presidential Election of 2024;Third-Party Poli...   \n",
       "3    Gaza Strip;Israel;Austin, Lloyd J III;Biden, J...   \n",
       "4    Haley, Nikki R;Campaign Finance;Presidential E...   \n",
       "..                                                 ...   \n",
       "169  United States Politics and Government;Law and ...   \n",
       "170                                                NaN   \n",
       "171  Israel-Gaza War (2023- );West Bank;Embargoes a...   \n",
       "172  Impeachment;Republican Party;House of Represen...   \n",
       "173  Swatting (Crime);Seminole County (Fla);Sanford...   \n",
       "\n",
       "                     pub_date document_type section_name type_of_material  \n",
       "0    2024-02-01T00:00:08+0000       article      Opinion            Op-Ed  \n",
       "1    2024-02-01T00:02:20+0000       article     New York             News  \n",
       "2    2024-02-01T00:03:34+0000       article      Opinion            Op-Ed  \n",
       "3    2024-02-01T00:53:17+0000       article        World             News  \n",
       "4    2024-02-01T02:53:26+0000       article         U.S.             News  \n",
       "..                        ...           ...          ...              ...  \n",
       "169  2024-02-01T22:54:25+0000       article         U.S.             News  \n",
       "170  2024-02-01T23:06:32+0000       article     Briefing             News  \n",
       "171  2024-02-01T23:27:46+0000       article        World             News  \n",
       "172  2024-02-01T23:34:55+0000       article         U.S.    News Analysis  \n",
       "173  2024-02-01T23:49:04+0000       article         U.S.             News  \n",
       "\n",
       "[174 rows x 9 columns]"
      ]
     },
     "execution_count": 66,
     "metadata": {},
     "output_type": "execute_result"
    }
   ],
   "source": [
    "getArticlesForDate(2024, 2, 1)"
   ]
  },
  {
   "cell_type": "markdown",
   "id": "061baf0d-6c54-457b-b3d7-aecd0fd29b10",
   "metadata": {},
   "source": [
    "<a id=\"sec2\"></a>\n",
    "## Part 2: Cosine Similarity for Text"
   ]
  },
  {
   "cell_type": "markdown",
   "id": "875ba378-a8b9-44c2-806c-d46672d67d12",
   "metadata": {},
   "source": [
    "We will start with the example that was in the slides. There, we initially used the Jaccard similarity to rank sentences most similar to a query, and when that didn't work as expected, we looked at the cosine similarity."
   ]
  },
  {
   "cell_type": "markdown",
   "id": "ae02ccfc-4467-4bc5-9361-6e934c24c4dc",
   "metadata": {},
   "source": [
    "### Use Jaccard similarity for a query phrase and a list of sentences"
   ]
  },
  {
   "cell_type": "code",
   "execution_count": 67,
   "id": "e5c2df6d-775c-4c58-b3d4-d72ae5ee94c8",
   "metadata": {},
   "outputs": [
    {
     "data": {
      "text/plain": [
       "[(0.3333, 'short dress'),\n",
       " (0.3333, 'red lipstick'),\n",
       " (0.2857, 'the dress has a red wine stain'),\n",
       " (0.2857, 'she wore a dress and red earrings'),\n",
       " (0.25, 'tomorrow I will wear my new red dress'),\n",
       " (0.2222, 'the red dress in the photo resembles the red dress she is wearing')]"
      ]
     },
     "execution_count": 67,
     "metadata": {},
     "output_type": "execute_result"
    }
   ],
   "source": [
    "q = \"red dress\"\n",
    "\n",
    "sentences = [\n",
    "\"she wore a dress and red earrings\",\n",
    "\"the dress has a red wine stain\",\n",
    "\"tomorrow I will wear my new red dress\",\n",
    "\"the red dress in the photo resembles the red dress she is wearing\",\n",
    "\"short dress\",\n",
    "\"red lipstick\"\n",
    "]\n",
    "\n",
    "def jaccard(text1, text2):\n",
    "    \"\"\"Implement Jaccard similarity. Assumes there is no punctuation in text.\"\"\"\n",
    "    sw1 = set(text1.lower().split()) # turn into a set of words\n",
    "    sw2 = set(text2.lower().split())\n",
    "    sim = len(sw1.intersection(sw2)) / len(sw1.union(sw2))\n",
    "    return round(sim, 4) # round to 4 digits after the comma\n",
    "\n",
    "def applyJaccard(query, sentences):\n",
    "    \"\"\"Appl the Jaccard similarity between query and each sentence\"\"\"\n",
    "    results = []\n",
    "    for sent in sentences:\n",
    "        jac = jaccard(query, sent)\n",
    "        results.append((jac, sent))\n",
    "    \n",
    "        # Sort in descending order\n",
    "        results.sort(reverse=True)\n",
    "\n",
    "    return results\n",
    "\n",
    "# call the function\n",
    "\n",
    "applyJaccard(q, sentences)"
   ]
  },
  {
   "cell_type": "markdown",
   "id": "1a902535-3e2f-40cb-b1e1-83f12d9cfbdd",
   "metadata": {},
   "source": [
    "As we discussed in class, the Jaccard similarity is not doing well with our data (showing as similar text that, thus, we will try the cosine similarity. However, in order to apply the cosine similarity, we need some other steps:\n",
    "\n",
    "1. Create the vocabulary of words that will serve as the dimensions of our vector space\n",
    "2. Represent each document as a vector in the vector space"
   ]
  },
  {
   "cell_type": "markdown",
   "id": "fc9b7baa-d3e9-4ab5-936b-d157ceb4ecaa",
   "metadata": {},
   "source": [
    "### Create Vocabulary\n",
    "\n",
    "While our sentences in the example don't have punctuation, most of the time text will have it, thus, we need to be prepared to remove it. This will be necesary in order to avoid a word show multiple times, with and without punctuation."
   ]
  },
  {
   "cell_type": "code",
   "execution_count": 68,
   "id": "54eada87-b484-4ff6-86ae-8e3da3b44f45",
   "metadata": {},
   "outputs": [
    {
     "data": {
      "text/plain": [
       "['that,',\n",
       " 'that',\n",
       " 'is',\n",
       " 'the',\n",
       " 'thing',\n",
       " 'i',\n",
       " 'want:',\n",
       " 'dancing',\n",
       " 'by',\n",
       " 'the',\n",
       " 'river!',\n",
       " 'ah,',\n",
       " 'the',\n",
       " 'river,',\n",
       " 'i',\n",
       " 'have',\n",
       " 'missed',\n",
       " 'it',\n",
       " 'so',\n",
       " 'much!']"
      ]
     },
     "execution_count": 68,
     "metadata": {},
     "output_type": "execute_result"
    }
   ],
   "source": [
    "phrase = \"that, that is the thing I want: dancing by the river! ah, the river, I have missed it so much!\"\n",
    "phrase.lower().split()"
   ]
  },
  {
   "cell_type": "markdown",
   "id": "9a10a224-8a04-4cf6-902f-5be5bc39acbc",
   "metadata": {},
   "source": [
    "Notice how we have both \"that!\" and \"that\", and also \"river,\" and \"river!\". This is why we will remove punctuation. Luckily, Python has a library that lists all punctuation:"
   ]
  },
  {
   "cell_type": "code",
   "execution_count": 69,
   "id": "ed7a24b4-dbed-47a5-aef3-6932ae997af6",
   "metadata": {},
   "outputs": [
    {
     "data": {
      "text/plain": [
       "'!\"#$%&\\'()*+,-./:;<=>?@[\\\\]^_`{|}~'"
      ]
     },
     "execution_count": 69,
     "metadata": {},
     "output_type": "execute_result"
    }
   ],
   "source": [
    "import string\n",
    "string.punctuation"
   ]
  },
  {
   "cell_type": "markdown",
   "id": "d721a72c-0d0a-4b72-9dfc-da57935f5cd4",
   "metadata": {},
   "source": [
    "One way to go about it is the following:"
   ]
  },
  {
   "cell_type": "code",
   "execution_count": 70,
   "id": "6edbb783-deea-4385-8133-3ba596115a76",
   "metadata": {},
   "outputs": [
    {
     "data": {
      "text/plain": [
       "'that that is the thing I want dancing by the river ah the river I have missed it so much'"
      ]
     },
     "execution_count": 70,
     "metadata": {},
     "output_type": "execute_result"
    }
   ],
   "source": [
    "\"\".join(char for char in phrase if char not in string.punctuation)"
   ]
  },
  {
   "cell_type": "markdown",
   "id": "c3885419-d1b4-470f-b877-7b352eb43522",
   "metadata": {},
   "source": [
    "Notice how all the punctuation is gone. Now that we know how to do this, we can write our function."
   ]
  },
  {
   "cell_type": "code",
   "execution_count": 71,
   "id": "f3b23d86-8bd4-48a6-96b8-5acea2294f6e",
   "metadata": {},
   "outputs": [],
   "source": [
    "def getVocabulary(textchunk):\n",
    "    \"\"\"Given some text, create the vocabulary of unique words.\"\"\"\n",
    "    textchunk = textchunk.lower()\n",
    "    cleantext = \"\".join(char for char in textchunk if char not in string.punctuation)\n",
    "    words = set(cleantext.split())\n",
    "    voc = sorted(words)\n",
    "\n",
    "    return voc"
   ]
  },
  {
   "cell_type": "markdown",
   "id": "e0ec90fd-b1d9-41b5-bf1d-b0ff75d8576c",
   "metadata": {},
   "source": [
    "Let's test it with our sentences. Since they are a list, we turn them into a string first:"
   ]
  },
  {
   "cell_type": "code",
   "execution_count": 72,
   "id": "bb8530bd-7e6c-423b-a6c1-9d8a5a3d3b41",
   "metadata": {},
   "outputs": [
    {
     "data": {
      "text/plain": [
       "['a',\n",
       " 'and',\n",
       " 'dress',\n",
       " 'earrings',\n",
       " 'has',\n",
       " 'i',\n",
       " 'in',\n",
       " 'is',\n",
       " 'lipstick',\n",
       " 'my',\n",
       " 'new',\n",
       " 'photo',\n",
       " 'red',\n",
       " 'resembles',\n",
       " 'she',\n",
       " 'short',\n",
       " 'stain',\n",
       " 'the',\n",
       " 'tomorrow',\n",
       " 'wear',\n",
       " 'wearing',\n",
       " 'will',\n",
       " 'wine',\n",
       " 'wore']"
      ]
     },
     "execution_count": 72,
     "metadata": {},
     "output_type": "execute_result"
    }
   ],
   "source": [
    "getVocabulary(\" \".join(sentences))"
   ]
  },
  {
   "cell_type": "markdown",
   "id": "570aa541-20e6-4649-a072-e7747c8c0e7c",
   "metadata": {},
   "source": [
    "It looks good, no word is repeated. "
   ]
  },
  {
   "cell_type": "markdown",
   "id": "801b4d6b-ed75-46dd-8eb7-cdc086929acb",
   "metadata": {},
   "source": [
    "### Vector representation\n",
    "\n",
    "Now that we have a vocabulary, we can easily convert every sentence into a vector of numbers. Remember, all the vectors will have the same length. They will have 0 for a dimension (word) that they don't have, and the count of word for a dimension they have."
   ]
  },
  {
   "cell_type": "code",
   "execution_count": 74,
   "id": "df263f81-89fe-43e0-b8c2-c3a7389cbe17",
   "metadata": {},
   "outputs": [],
   "source": [
    "def text2vector(sentence, voc):\n",
    "    \"\"\"Given a sentence and the vocabulary for the problem,\n",
    "    turn every sentence into a vector.\n",
    "    \"\"\"\n",
    "    cleantext = \"\".join(char for char in sentence if char not in string.punctuation)\n",
    "    words = cleantext.lower().split()\n",
    "    vector = [words.count(w) for w in voc]\n",
    "    return vector"
   ]
  },
  {
   "cell_type": "markdown",
   "id": "8373e862-7388-441f-be8c-df4858a5049d",
   "metadata": {},
   "source": [
    "Let's try it with one sentence:"
   ]
  },
  {
   "cell_type": "code",
   "execution_count": 75,
   "id": "fb41a829-15bb-4cfb-87b6-71fe59f1eee8",
   "metadata": {},
   "outputs": [
    {
     "data": {
      "text/plain": [
       "[1, 1, 1, 1, 0, 0, 0, 0, 0, 0, 0, 0, 1, 0, 1, 0, 0, 0, 0, 0, 0, 0, 0, 1]"
      ]
     },
     "execution_count": 75,
     "metadata": {},
     "output_type": "execute_result"
    }
   ],
   "source": [
    "voc = getVocabulary(\" \".join(sentences))\n",
    "text2vector(sentences[0], voc)"
   ]
  },
  {
   "cell_type": "markdown",
   "id": "0f3160b6-9859-4232-9633-8c7c9d1554df",
   "metadata": {},
   "source": [
    "Let's verify that this is done right by checking what sentence was turned into a vector:"
   ]
  },
  {
   "cell_type": "code",
   "execution_count": 76,
   "id": "cd0bd5c3-d39d-45df-b299-d68985f95e45",
   "metadata": {},
   "outputs": [
    {
     "data": {
      "text/plain": [
       "'she wore a dress and red earrings'"
      ]
     },
     "execution_count": 76,
     "metadata": {},
     "output_type": "execute_result"
    }
   ],
   "source": [
    "sentences[0]"
   ]
  },
  {
   "cell_type": "markdown",
   "id": "283598ad-4b39-4971-8678-07e9e58a5fe8",
   "metadata": {},
   "source": [
    "Let's combine the vocabulary and the vector to see the pairs:"
   ]
  },
  {
   "cell_type": "code",
   "execution_count": 77,
   "id": "07681d03-9145-4d0d-bc62-35d8e7d08091",
   "metadata": {},
   "outputs": [
    {
     "data": {
      "text/plain": [
       "[('a', 1),\n",
       " ('and', 1),\n",
       " ('dress', 1),\n",
       " ('earrings', 1),\n",
       " ('has', 0),\n",
       " ('i', 0),\n",
       " ('in', 0),\n",
       " ('is', 0),\n",
       " ('lipstick', 0),\n",
       " ('my', 0),\n",
       " ('new', 0),\n",
       " ('photo', 0),\n",
       " ('red', 1),\n",
       " ('resembles', 0),\n",
       " ('she', 1),\n",
       " ('short', 0),\n",
       " ('stain', 0),\n",
       " ('the', 0),\n",
       " ('tomorrow', 0),\n",
       " ('wear', 0),\n",
       " ('wearing', 0),\n",
       " ('will', 0),\n",
       " ('wine', 0),\n",
       " ('wore', 1)]"
      ]
     },
     "execution_count": 77,
     "metadata": {},
     "output_type": "execute_result"
    }
   ],
   "source": [
    "list(zip(voc, text2vector(sentences[0], voc)))"
   ]
  },
  {
   "cell_type": "markdown",
   "id": "0044674c-702e-41cd-acf7-a256ad70319b",
   "metadata": {},
   "source": [
    "Notice how each word in our sentence has a 1 next to it and all the other words have a 0."
   ]
  },
  {
   "cell_type": "markdown",
   "id": "324cbe7f-5532-4400-9072-e5be860c9c29",
   "metadata": {},
   "source": [
    "We will now convert all the sentences to vectors:"
   ]
  },
  {
   "cell_type": "code",
   "execution_count": 78,
   "id": "a40f4537-e117-4a85-9abc-9f7d5a0f232c",
   "metadata": {},
   "outputs": [
    {
     "data": {
      "text/plain": [
       "[[1, 1, 1, 1, 0, 0, 0, 0, 0, 0, 0, 0, 1, 0, 1, 0, 0, 0, 0, 0, 0, 0, 0, 1],\n",
       " [1, 0, 1, 0, 1, 0, 0, 0, 0, 0, 0, 0, 1, 0, 0, 0, 1, 1, 0, 0, 0, 0, 1, 0],\n",
       " [0, 0, 1, 0, 0, 1, 0, 0, 0, 1, 1, 0, 1, 0, 0, 0, 0, 0, 1, 1, 0, 1, 0, 0],\n",
       " [0, 0, 2, 0, 0, 0, 1, 1, 0, 0, 0, 1, 2, 1, 1, 0, 0, 3, 0, 0, 1, 0, 0, 0],\n",
       " [0, 0, 1, 0, 0, 0, 0, 0, 0, 0, 0, 0, 0, 0, 0, 1, 0, 0, 0, 0, 0, 0, 0, 0],\n",
       " [0, 0, 0, 0, 0, 0, 0, 0, 1, 0, 0, 0, 1, 0, 0, 0, 0, 0, 0, 0, 0, 0, 0, 0]]"
      ]
     },
     "execution_count": 78,
     "metadata": {},
     "output_type": "execute_result"
    }
   ],
   "source": [
    "sent2vec = [text2vector(sent, voc) for sent in sentences]\n",
    "sent2vec"
   ]
  },
  {
   "cell_type": "markdown",
   "id": "b19d6ada-dfdd-46c2-819c-78eeef345a0c",
   "metadata": {},
   "source": [
    "We represent this in pandas:"
   ]
  },
  {
   "cell_type": "code",
   "execution_count": 79,
   "id": "80266fcd-74f1-425c-b9f7-7d5cf5e2fa24",
   "metadata": {},
   "outputs": [
    {
     "data": {
      "text/html": [
       "<div>\n",
       "<style scoped>\n",
       "    .dataframe tbody tr th:only-of-type {\n",
       "        vertical-align: middle;\n",
       "    }\n",
       "\n",
       "    .dataframe tbody tr th {\n",
       "        vertical-align: top;\n",
       "    }\n",
       "\n",
       "    .dataframe thead th {\n",
       "        text-align: right;\n",
       "    }\n",
       "</style>\n",
       "<table border=\"1\" class=\"dataframe\">\n",
       "  <thead>\n",
       "    <tr style=\"text-align: right;\">\n",
       "      <th></th>\n",
       "      <th>a</th>\n",
       "      <th>and</th>\n",
       "      <th>dress</th>\n",
       "      <th>earrings</th>\n",
       "      <th>has</th>\n",
       "      <th>i</th>\n",
       "      <th>in</th>\n",
       "      <th>is</th>\n",
       "      <th>lipstick</th>\n",
       "      <th>my</th>\n",
       "      <th>...</th>\n",
       "      <th>she</th>\n",
       "      <th>short</th>\n",
       "      <th>stain</th>\n",
       "      <th>the</th>\n",
       "      <th>tomorrow</th>\n",
       "      <th>wear</th>\n",
       "      <th>wearing</th>\n",
       "      <th>will</th>\n",
       "      <th>wine</th>\n",
       "      <th>wore</th>\n",
       "    </tr>\n",
       "  </thead>\n",
       "  <tbody>\n",
       "    <tr>\n",
       "      <th>doc_1</th>\n",
       "      <td>1</td>\n",
       "      <td>1</td>\n",
       "      <td>1</td>\n",
       "      <td>1</td>\n",
       "      <td>0</td>\n",
       "      <td>0</td>\n",
       "      <td>0</td>\n",
       "      <td>0</td>\n",
       "      <td>0</td>\n",
       "      <td>0</td>\n",
       "      <td>...</td>\n",
       "      <td>1</td>\n",
       "      <td>0</td>\n",
       "      <td>0</td>\n",
       "      <td>0</td>\n",
       "      <td>0</td>\n",
       "      <td>0</td>\n",
       "      <td>0</td>\n",
       "      <td>0</td>\n",
       "      <td>0</td>\n",
       "      <td>1</td>\n",
       "    </tr>\n",
       "    <tr>\n",
       "      <th>doc_2</th>\n",
       "      <td>1</td>\n",
       "      <td>0</td>\n",
       "      <td>1</td>\n",
       "      <td>0</td>\n",
       "      <td>1</td>\n",
       "      <td>0</td>\n",
       "      <td>0</td>\n",
       "      <td>0</td>\n",
       "      <td>0</td>\n",
       "      <td>0</td>\n",
       "      <td>...</td>\n",
       "      <td>0</td>\n",
       "      <td>0</td>\n",
       "      <td>1</td>\n",
       "      <td>1</td>\n",
       "      <td>0</td>\n",
       "      <td>0</td>\n",
       "      <td>0</td>\n",
       "      <td>0</td>\n",
       "      <td>1</td>\n",
       "      <td>0</td>\n",
       "    </tr>\n",
       "    <tr>\n",
       "      <th>doc_3</th>\n",
       "      <td>0</td>\n",
       "      <td>0</td>\n",
       "      <td>1</td>\n",
       "      <td>0</td>\n",
       "      <td>0</td>\n",
       "      <td>1</td>\n",
       "      <td>0</td>\n",
       "      <td>0</td>\n",
       "      <td>0</td>\n",
       "      <td>1</td>\n",
       "      <td>...</td>\n",
       "      <td>0</td>\n",
       "      <td>0</td>\n",
       "      <td>0</td>\n",
       "      <td>0</td>\n",
       "      <td>1</td>\n",
       "      <td>1</td>\n",
       "      <td>0</td>\n",
       "      <td>1</td>\n",
       "      <td>0</td>\n",
       "      <td>0</td>\n",
       "    </tr>\n",
       "    <tr>\n",
       "      <th>doc_4</th>\n",
       "      <td>0</td>\n",
       "      <td>0</td>\n",
       "      <td>2</td>\n",
       "      <td>0</td>\n",
       "      <td>0</td>\n",
       "      <td>0</td>\n",
       "      <td>1</td>\n",
       "      <td>1</td>\n",
       "      <td>0</td>\n",
       "      <td>0</td>\n",
       "      <td>...</td>\n",
       "      <td>1</td>\n",
       "      <td>0</td>\n",
       "      <td>0</td>\n",
       "      <td>3</td>\n",
       "      <td>0</td>\n",
       "      <td>0</td>\n",
       "      <td>1</td>\n",
       "      <td>0</td>\n",
       "      <td>0</td>\n",
       "      <td>0</td>\n",
       "    </tr>\n",
       "    <tr>\n",
       "      <th>doc_5</th>\n",
       "      <td>0</td>\n",
       "      <td>0</td>\n",
       "      <td>1</td>\n",
       "      <td>0</td>\n",
       "      <td>0</td>\n",
       "      <td>0</td>\n",
       "      <td>0</td>\n",
       "      <td>0</td>\n",
       "      <td>0</td>\n",
       "      <td>0</td>\n",
       "      <td>...</td>\n",
       "      <td>0</td>\n",
       "      <td>1</td>\n",
       "      <td>0</td>\n",
       "      <td>0</td>\n",
       "      <td>0</td>\n",
       "      <td>0</td>\n",
       "      <td>0</td>\n",
       "      <td>0</td>\n",
       "      <td>0</td>\n",
       "      <td>0</td>\n",
       "    </tr>\n",
       "    <tr>\n",
       "      <th>doc_6</th>\n",
       "      <td>0</td>\n",
       "      <td>0</td>\n",
       "      <td>0</td>\n",
       "      <td>0</td>\n",
       "      <td>0</td>\n",
       "      <td>0</td>\n",
       "      <td>0</td>\n",
       "      <td>0</td>\n",
       "      <td>1</td>\n",
       "      <td>0</td>\n",
       "      <td>...</td>\n",
       "      <td>0</td>\n",
       "      <td>0</td>\n",
       "      <td>0</td>\n",
       "      <td>0</td>\n",
       "      <td>0</td>\n",
       "      <td>0</td>\n",
       "      <td>0</td>\n",
       "      <td>0</td>\n",
       "      <td>0</td>\n",
       "      <td>0</td>\n",
       "    </tr>\n",
       "  </tbody>\n",
       "</table>\n",
       "<p>6 rows × 24 columns</p>\n",
       "</div>"
      ],
      "text/plain": [
       "       a  and  dress  earrings  has  i  in  is  lipstick  my  ...  she  short  \\\n",
       "doc_1  1    1      1         1    0  0   0   0         0   0  ...    1      0   \n",
       "doc_2  1    0      1         0    1  0   0   0         0   0  ...    0      0   \n",
       "doc_3  0    0      1         0    0  1   0   0         0   1  ...    0      0   \n",
       "doc_4  0    0      2         0    0  0   1   1         0   0  ...    1      0   \n",
       "doc_5  0    0      1         0    0  0   0   0         0   0  ...    0      1   \n",
       "doc_6  0    0      0         0    0  0   0   0         1   0  ...    0      0   \n",
       "\n",
       "       stain  the  tomorrow  wear  wearing  will  wine  wore  \n",
       "doc_1      0    0         0     0        0     0     0     1  \n",
       "doc_2      1    1         0     0        0     0     1     0  \n",
       "doc_3      0    0         1     1        0     1     0     0  \n",
       "doc_4      0    3         0     0        1     0     0     0  \n",
       "doc_5      0    0         0     0        0     0     0     0  \n",
       "doc_6      0    0         0     0        0     0     0     0  \n",
       "\n",
       "[6 rows x 24 columns]"
      ]
     },
     "execution_count": 79,
     "metadata": {},
     "output_type": "execute_result"
    }
   ],
   "source": [
    "import pandas as pd\n",
    "df = pd.DataFrame(sent2vec, \n",
    "                  columns=voc,\n",
    "                  index=[f\"doc_{i+1}\" for i in range(len(sentences))])\n",
    "df"
   ]
  },
  {
   "cell_type": "markdown",
   "id": "68bb0b24-529d-4729-9536-07133eed7954",
   "metadata": {},
   "source": [
    "### Cosine Similarity\n",
    "\n",
    "We discussed the implementation of cosine similarity in class. Below is the function that implements it."
   ]
  },
  {
   "cell_type": "code",
   "execution_count": 80,
   "id": "7c56ea1c-ad57-4932-897f-853683b8dfa1",
   "metadata": {},
   "outputs": [],
   "source": [
    "import numpy as np\n",
    "from numpy.linalg import norm\n",
    " \n",
    "def cosineSimilarity(vec1, vec2):\n",
    "    \"\"\"Calculate the cosine similarity between two vectors.\"\"\"\n",
    "    V1 = np.array(vec1)\n",
    "    V2 = np.array(vec2)\n",
    "    cosine = np.dot(V1, V2)/(norm(V1)*norm(V2))\n",
    "    return cosine"
   ]
  },
  {
   "cell_type": "markdown",
   "id": "d180583c-772e-417d-9bb3-5a757cd4b02a",
   "metadata": {},
   "source": [
    "Now that we have the cosine similarity function, we will write a function that given a query and a list of sentences, calculates the similarity score for each pair (query, sentence)."
   ]
  },
  {
   "cell_type": "code",
   "execution_count": 81,
   "id": "df84fcec-d7b6-4778-b325-f71186be5da8",
   "metadata": {},
   "outputs": [],
   "source": [
    "def rankDocuments(query, sentences):\n",
    "    \"\"\"Given a query and some sentences, rank the sentences for \n",
    "    which are the most similar to the query.\n",
    "    \"\"\"\n",
    "    # Step 1: create vocabulary\n",
    "    voc = getVocabulary(\" \".join(sentences))\n",
    "\n",
    "    # Step 2: generate vector for query\n",
    "    queryVec = text2vector(query, voc)\n",
    "\n",
    "    # Step 3: generate vector for sentences and calculate cosine similarity at once\n",
    "    similarities = []\n",
    "    for sent in sentences:\n",
    "        sentVec = text2vector(sent, voc)\n",
    "        sim = cosineSimilarity(queryVec, sentVec)\n",
    "        similarities.append((round(sim, 4), sent)) # keep track of sentences\n",
    "\n",
    "    similarities.sort(reverse=True) # most similar sentence at the top\n",
    "    return similarities"
   ]
  },
  {
   "cell_type": "markdown",
   "id": "34727669-66b5-457a-bd42-179a69b7e0dd",
   "metadata": {},
   "source": [
    "Now we can call the function for our query \"red dress\" and the list of sentences:"
   ]
  },
  {
   "cell_type": "code",
   "execution_count": 82,
   "id": "dab2c623-8e46-41c2-a5c8-44f16ef214a5",
   "metadata": {},
   "outputs": [
    {
     "data": {
      "text/plain": [
       "[(0.5898, 'the red dress in the photo resembles the red dress she is wearing'),\n",
       " (0.5345, 'the dress has a red wine stain'),\n",
       " (0.5345, 'she wore a dress and red earrings'),\n",
       " (0.5, 'tomorrow I will wear my new red dress'),\n",
       " (0.5, 'short dress'),\n",
       " (0.5, 'red lipstick')]"
      ]
     },
     "execution_count": 82,
     "metadata": {},
     "output_type": "execute_result"
    }
   ],
   "source": [
    "rankDocuments(\"red dress\", sentences)"
   ]
  },
  {
   "cell_type": "markdown",
   "id": "61f57d06-5e24-499b-ba9d-71206812ee93",
   "metadata": {},
   "source": [
    "**Note:** These values are slightly different from the ones in the slides. There was a bug with the word \"I\", which was not lowercased in the sentences, so it didn't count in the vector. The bug has been fixed in this version."
   ]
  },
  {
   "cell_type": "markdown",
   "id": "dc31052f-a095-4a3b-963d-93ea3d8aa447",
   "metadata": {},
   "source": [
    "<a id=\"sec3\"></a>\n",
    "## Part 3: Similarity of Spring and Summer sentences\n",
    "\n",
    "You were given the following sentences in the slides of Day 10. These were created by GenAI to capture the spirit of \"spring\" and \"summer\"."
   ]
  },
  {
   "cell_type": "code",
   "execution_count": 83,
   "id": "43ac7add-0cab-4e15-8c8c-670a22bd24a6",
   "metadata": {},
   "outputs": [],
   "source": [
    "springSentences = [\n",
    "\"As spring unfolds, the warmth of the season encourages the first blossoms to open, signaling longer days ahead.\",\n",
    "\"Spring brings not only blooming flowers but also the anticipation of sunny days and outdoor activities.\",\n",
    "\"With the arrival of spring, people begin planning their summer vacations, eager to enjoy the seasonal warmth.\",\n",
    "\"The mild spring weather marks the transition from the cold winter to the inviting warmth of summer.\",\n",
    "\"During spring, families often start spending more time outdoors, enjoying the season's pleasant temperatures and the promise of summer fun.\"\n",
    "]\n",
    "\n",
    "summerSentences = [\n",
    "\"Summer continues the season's trend of growth and warmth, with gardens full of life and days filled with sunlight.\",\n",
    "\"The summer season is synonymous with outdoor adventures and enjoying the extended daylight hours that began in spring.\",\n",
    "\"As summer arrives, the warm weather invites a continuation of the outdoor activities that people began enjoying in spring.\",\n",
    "\"The transition into summer brings even warmer temperatures, allowing for beach visits and swimming, much awaited since the spring.\",\n",
    "\"Summer vacations are often planned as the days grow longer, a pattern that starts in the spring, culminating in peak summer leisure.\"\n",
    "]"
   ]
  },
  {
   "cell_type": "markdown",
   "id": "f84d7cfd-7d88-4ae0-a4d8-fd57d7abf98f",
   "metadata": {},
   "source": [
    "**Our Goal:**\n",
    "\n",
    "We want to generate a heatmap of the similarity scores between all sentences to one another to find out how similar they are. To achieve this goal, we need to break down the task:\n",
    "\n",
    "1. We need to create first the vocabulary of all terms (or the dimensions of our vector space).\n",
    "2. We will turn every sentence into a vector.\n",
    "3. We will compare every sentence to every other sentence through the cosine similartiy to create the similarity matrix.\n",
    "4. We will draw the heatmap with seaborn."
   ]
  },
  {
   "cell_type": "markdown",
   "id": "c06d4566-ff9e-440f-8270-28266576f1d4",
   "metadata": {},
   "source": [
    "### Create Vocabulary\n",
    "\n",
    "We will call the function `getVocabulary` that we created before."
   ]
  },
  {
   "cell_type": "code",
   "execution_count": 84,
   "id": "ba76cc83-44a6-483a-8b62-504aa457b808",
   "metadata": {},
   "outputs": [
    {
     "name": "stdout",
     "output_type": "stream",
     "text": [
      "Vocabulary has 102 words.\n"
     ]
    }
   ],
   "source": [
    "allSentences = \" \".join(springSentences) + \" \" + \" \".join(summerSentences)\n",
    "voc = getVocabulary(allSentences)\n",
    "print(f\"Vocabulary has {len(voc)} words.\")"
   ]
  },
  {
   "cell_type": "markdown",
   "id": "9b1e8c8e-3ba6-4186-888c-419c40f4371d",
   "metadata": {},
   "source": [
    "### Convert sentences to vectors\n",
    "\n",
    "We will call the function `text2vector` on every sentence:"
   ]
  },
  {
   "cell_type": "code",
   "execution_count": 85,
   "id": "039cb611-dbc2-4758-949d-8106223faa39",
   "metadata": {},
   "outputs": [
    {
     "name": "stdout",
     "output_type": "stream",
     "text": [
      "10 102\n"
     ]
    }
   ],
   "source": [
    "sentVectors = [text2vector(sent, voc) for sent in springSentences+summerSentences]\n",
    "print(len(sentVectors), len(sentVectors[0]))"
   ]
  },
  {
   "cell_type": "markdown",
   "id": "301c7b5a-af95-4c18-8055-2595ad5c325c",
   "metadata": {},
   "source": [
    "This means that we created 10 vectors, each with a length of 102 dimensions.  \n",
    "Let's check our work:"
   ]
  },
  {
   "cell_type": "code",
   "execution_count": 86,
   "id": "0cf70219-42ae-470d-a1ee-ed77b5f6df3f",
   "metadata": {},
   "outputs": [
    {
     "data": {
      "text/plain": [
       "'As spring unfolds, the warmth of the season encourages the first blossoms to open, signaling longer days ahead.'"
      ]
     },
     "execution_count": 86,
     "metadata": {},
     "output_type": "execute_result"
    }
   ],
   "source": [
    "oneSent = springSentences[0]\n",
    "oneSent"
   ]
  },
  {
   "cell_type": "code",
   "execution_count": 87,
   "id": "4588ad7d-9c4f-4fb5-8c5b-92d9701e3e0c",
   "metadata": {},
   "outputs": [
    {
     "data": {
      "text/plain": [
       "[(1, 'ahead'),\n",
       " (1, 'as'),\n",
       " (1, 'blossoms'),\n",
       " (1, 'days'),\n",
       " (1, 'encourages'),\n",
       " (1, 'first'),\n",
       " (1, 'longer'),\n",
       " (1, 'of'),\n",
       " (1, 'open'),\n",
       " (1, 'season'),\n",
       " (1, 'signaling'),\n",
       " (1, 'spring'),\n",
       " (3, 'the'),\n",
       " (1, 'to'),\n",
       " (1, 'unfolds'),\n",
       " (1, 'warmth')]"
      ]
     },
     "execution_count": 87,
     "metadata": {},
     "output_type": "execute_result"
    }
   ],
   "source": [
    "pairs = list(zip(text2vector(oneSent, voc), voc))\n",
    "nonZero = [pair for pair in pairs if pair[0] != 0]\n",
    "nonZero"
   ]
  },
  {
   "cell_type": "code",
   "execution_count": 88,
   "id": "8ed0ed94-87d4-4709-ba59-9554e5ff6d21",
   "metadata": {},
   "outputs": [
    {
     "name": "stdout",
     "output_type": "stream",
     "text": [
      "Words in sentence: 18; nonzero terms in vector: 16\n"
     ]
    }
   ],
   "source": [
    "print(f\"Words in sentence: {len(oneSent.split())}; nonzero terms in vector: {len(nonZero)}\")"
   ]
  },
  {
   "cell_type": "markdown",
   "id": "b4e0a4c2-acfb-40d6-b15e-dda74d2f5f12",
   "metadata": {},
   "source": [
    "This looks good. There are 16 unique words, and the word \"the\" is repeated two more times, that explains the numbers 16 and 18. "
   ]
  },
  {
   "cell_type": "markdown",
   "id": "e45c5533-86e8-4829-9de5-e3e8ac0d8cd0",
   "metadata": {},
   "source": [
    "### Calculating the similarity matrix\n",
    "\n",
    "We will calculate the cosine similarity for every pair of sentences. This makes sense because we only have 10 sentences, if we had way more, we will try to be more efficient and not repeat the calculations (since we know that the matrix is symmetrical). "
   ]
  },
  {
   "cell_type": "code",
   "execution_count": 89,
   "id": "da6b9b81-d5b1-43f2-b029-1b15a78014e3",
   "metadata": {},
   "outputs": [
    {
     "name": "stdout",
     "output_type": "stream",
     "text": [
      "[[1.0000000000000002, 0.3061862178478973, 0.468292905790847, 0.6064784348631228, 0.3481553119113957, 0.2857738033247041, 0.3651483716701107, 0.40089186286863665, 0.3118047822311618, 0.38575837490522974], [0.3061862178478973, 1.0, 0.22941573387056174, 0.2785430072655778, 0.26650089544451305, 0.3, 0.2795084971874737, 0.3273268353539886, 0.2727723627949905, 0.1889822365046136], [0.468292905790847, 0.22941573387056174, 0.9999999999999998, 0.5538186196949965, 0.3423811916311629, 0.3670651741928988, 0.3590924232298039, 0.40050093945740706, 0.3003757045930553, 0.3468439878096479], [0.6064784348631228, 0.2785430072655778, 0.5538186196949965, 1.0000000000000002, 0.43549417035569277, 0.297112541083283, 0.41522739926869984, 0.4862645390838647, 0.44574249416020933, 0.386024323488978], [0.3481553119113957, 0.26650089544451305, 0.3423811916311629, 0.43549417035569277, 1.0, 0.34112114616897665, 0.38138503569823684, 0.37219368415938836, 0.37219368415938836, 0.3223291856101521], [0.2857738033247041, 0.3, 0.3670651741928988, 0.297112541083283, 0.34112114616897665, 1.0, 0.31304951684997057, 0.2182178902359924, 0.2182178902359924, 0.18898223650461363], [0.3651483716701107, 0.2795084971874737, 0.3590924232298039, 0.41522739926869984, 0.38138503569823684, 0.31304951684997057, 0.9999999999999998, 0.5367450401216932, 0.34156502553198664, 0.42257712736425823], [0.40089186286863665, 0.3273268353539886, 0.40050093945740706, 0.4862645390838647, 0.37219368415938836, 0.2182178902359924, 0.5367450401216932, 1.0, 0.2857142857142857, 0.4948716593053935], [0.3118047822311618, 0.2727723627949905, 0.3003757045930553, 0.44574249416020933, 0.37219368415938836, 0.2182178902359924, 0.34156502553198664, 0.2857142857142857, 1.0, 0.28867513459481287], [0.38575837490522974, 0.1889822365046136, 0.3468439878096479, 0.386024323488978, 0.3223291856101521, 0.18898223650461363, 0.42257712736425823, 0.4948716593053935, 0.28867513459481287, 0.9999999999999999]]\n"
     ]
    }
   ],
   "source": [
    "simMatrix = []\n",
    "for vec1 in sentVectors:\n",
    "    simRow = []\n",
    "    for vec2 in sentVectors:\n",
    "        simRow.append(cosineSimilarity(vec1, vec2))\n",
    "    simMatrix.append(simRow)\n",
    "\n",
    "print(simMatrix)"
   ]
  },
  {
   "cell_type": "markdown",
   "id": "f8ee2c37-ac61-41de-be5c-1c4d0ed65905",
   "metadata": {},
   "source": [
    "### Generate the heatmap"
   ]
  },
  {
   "cell_type": "code",
   "execution_count": 90,
   "id": "15937a9a-5ed7-4f45-b2a9-8fa4d9b15f32",
   "metadata": {},
   "outputs": [],
   "source": [
    "import seaborn as sns\n",
    "import matplotlib.pyplot as plt\n",
    "\n",
    "def drawHeatmap(sentLabels, simMtrx, plotTitle):\n",
    "    \"\"\"Draws a heatmap for the similarity matrix.\n",
    "    \"\"\"\n",
    "    sns.set(font_scale=0.9)\n",
    "    g = sns.heatmap(\n",
    "          simMtrx, # similarity matrix with the cosine sim values\n",
    "          xticklabels=sentLabels,\n",
    "          yticklabels=sentLabels,\n",
    "          vmin=0,\n",
    "          vmax=1,\n",
    "          cmap=\"YlOrRd\")\n",
    "    g.set_xticklabels(sentLabels, rotation=90)\n",
    "    g.set_title(plotTitle, fontsize=14)\n",
    "    plt.show()"
   ]
  },
  {
   "cell_type": "code",
   "execution_count": 91,
   "id": "fab0d895-0cbc-46e0-abc4-039dac2e69b4",
   "metadata": {},
   "outputs": [
    {
     "data": {
      "image/png": "[encoded data removed]",
      "text/plain": [
       "<Figure size 640x480 with 2 Axes>"
      ]
     },
     "metadata": {},
     "output_type": "display_data"
    }
   ],
   "source": [
    "shortSent = [sent[:25] for sent in springSentences+summerSentences]\n",
    "drawHeatmap(shortSent, simMatrix, \"Cosine similarity matrix\")"
   ]
  },
  {
   "cell_type": "markdown",
   "id": "ccb27fe5-0ad2-4e5d-b3ea-d50ae4d1fccb",
   "metadata": {},
   "source": [
    "### Short Exploration\n",
    "\n",
    "Let's look at the similarity matrix in a pandas dataframe:"
   ]
  },
  {
   "cell_type": "code",
   "execution_count": 92,
   "id": "d6a402d1-8fd8-439c-85b5-2ec2524cb011",
   "metadata": {},
   "outputs": [
    {
     "data": {
      "text/html": [
       "<div>\n",
       "<style scoped>\n",
       "    .dataframe tbody tr th:only-of-type {\n",
       "        vertical-align: middle;\n",
       "    }\n",
       "\n",
       "    .dataframe tbody tr th {\n",
       "        vertical-align: top;\n",
       "    }\n",
       "\n",
       "    .dataframe thead th {\n",
       "        text-align: right;\n",
       "    }\n",
       "</style>\n",
       "<table border=\"1\" class=\"dataframe\">\n",
       "  <thead>\n",
       "    <tr style=\"text-align: right;\">\n",
       "      <th></th>\n",
       "      <th>s1</th>\n",
       "      <th>s2</th>\n",
       "      <th>s3</th>\n",
       "      <th>s4</th>\n",
       "      <th>s5</th>\n",
       "      <th>s6</th>\n",
       "      <th>s7</th>\n",
       "      <th>s8</th>\n",
       "      <th>s9</th>\n",
       "      <th>s10</th>\n",
       "    </tr>\n",
       "  </thead>\n",
       "  <tbody>\n",
       "    <tr>\n",
       "      <th>s1</th>\n",
       "      <td>1.000000</td>\n",
       "      <td>0.306186</td>\n",
       "      <td>0.468293</td>\n",
       "      <td>0.606478</td>\n",
       "      <td>0.348155</td>\n",
       "      <td>0.285774</td>\n",
       "      <td>0.365148</td>\n",
       "      <td>0.400892</td>\n",
       "      <td>0.311805</td>\n",
       "      <td>0.385758</td>\n",
       "    </tr>\n",
       "    <tr>\n",
       "      <th>s2</th>\n",
       "      <td>0.306186</td>\n",
       "      <td>1.000000</td>\n",
       "      <td>0.229416</td>\n",
       "      <td>0.278543</td>\n",
       "      <td>0.266501</td>\n",
       "      <td>0.300000</td>\n",
       "      <td>0.279508</td>\n",
       "      <td>0.327327</td>\n",
       "      <td>0.272772</td>\n",
       "      <td>0.188982</td>\n",
       "    </tr>\n",
       "    <tr>\n",
       "      <th>s3</th>\n",
       "      <td>0.468293</td>\n",
       "      <td>0.229416</td>\n",
       "      <td>1.000000</td>\n",
       "      <td>0.553819</td>\n",
       "      <td>0.342381</td>\n",
       "      <td>0.367065</td>\n",
       "      <td>0.359092</td>\n",
       "      <td>0.400501</td>\n",
       "      <td>0.300376</td>\n",
       "      <td>0.346844</td>\n",
       "    </tr>\n",
       "    <tr>\n",
       "      <th>s4</th>\n",
       "      <td>0.606478</td>\n",
       "      <td>0.278543</td>\n",
       "      <td>0.553819</td>\n",
       "      <td>1.000000</td>\n",
       "      <td>0.435494</td>\n",
       "      <td>0.297113</td>\n",
       "      <td>0.415227</td>\n",
       "      <td>0.486265</td>\n",
       "      <td>0.445742</td>\n",
       "      <td>0.386024</td>\n",
       "    </tr>\n",
       "    <tr>\n",
       "      <th>s5</th>\n",
       "      <td>0.348155</td>\n",
       "      <td>0.266501</td>\n",
       "      <td>0.342381</td>\n",
       "      <td>0.435494</td>\n",
       "      <td>1.000000</td>\n",
       "      <td>0.341121</td>\n",
       "      <td>0.381385</td>\n",
       "      <td>0.372194</td>\n",
       "      <td>0.372194</td>\n",
       "      <td>0.322329</td>\n",
       "    </tr>\n",
       "    <tr>\n",
       "      <th>s6</th>\n",
       "      <td>0.285774</td>\n",
       "      <td>0.300000</td>\n",
       "      <td>0.367065</td>\n",
       "      <td>0.297113</td>\n",
       "      <td>0.341121</td>\n",
       "      <td>1.000000</td>\n",
       "      <td>0.313050</td>\n",
       "      <td>0.218218</td>\n",
       "      <td>0.218218</td>\n",
       "      <td>0.188982</td>\n",
       "    </tr>\n",
       "    <tr>\n",
       "      <th>s7</th>\n",
       "      <td>0.365148</td>\n",
       "      <td>0.279508</td>\n",
       "      <td>0.359092</td>\n",
       "      <td>0.415227</td>\n",
       "      <td>0.381385</td>\n",
       "      <td>0.313050</td>\n",
       "      <td>1.000000</td>\n",
       "      <td>0.536745</td>\n",
       "      <td>0.341565</td>\n",
       "      <td>0.422577</td>\n",
       "    </tr>\n",
       "    <tr>\n",
       "      <th>s8</th>\n",
       "      <td>0.400892</td>\n",
       "      <td>0.327327</td>\n",
       "      <td>0.400501</td>\n",
       "      <td>0.486265</td>\n",
       "      <td>0.372194</td>\n",
       "      <td>0.218218</td>\n",
       "      <td>0.536745</td>\n",
       "      <td>1.000000</td>\n",
       "      <td>0.285714</td>\n",
       "      <td>0.494872</td>\n",
       "    </tr>\n",
       "    <tr>\n",
       "      <th>s9</th>\n",
       "      <td>0.311805</td>\n",
       "      <td>0.272772</td>\n",
       "      <td>0.300376</td>\n",
       "      <td>0.445742</td>\n",
       "      <td>0.372194</td>\n",
       "      <td>0.218218</td>\n",
       "      <td>0.341565</td>\n",
       "      <td>0.285714</td>\n",
       "      <td>1.000000</td>\n",
       "      <td>0.288675</td>\n",
       "    </tr>\n",
       "    <tr>\n",
       "      <th>s10</th>\n",
       "      <td>0.385758</td>\n",
       "      <td>0.188982</td>\n",
       "      <td>0.346844</td>\n",
       "      <td>0.386024</td>\n",
       "      <td>0.322329</td>\n",
       "      <td>0.188982</td>\n",
       "      <td>0.422577</td>\n",
       "      <td>0.494872</td>\n",
       "      <td>0.288675</td>\n",
       "      <td>1.000000</td>\n",
       "    </tr>\n",
       "  </tbody>\n",
       "</table>\n",
       "</div>"
      ],
      "text/plain": [
       "           s1        s2        s3        s4        s5        s6        s7  \\\n",
       "s1   1.000000  0.306186  0.468293  0.606478  0.348155  0.285774  0.365148   \n",
       "s2   0.306186  1.000000  0.229416  0.278543  0.266501  0.300000  0.279508   \n",
       "s3   0.468293  0.229416  1.000000  0.553819  0.342381  0.367065  0.359092   \n",
       "s4   0.606478  0.278543  0.553819  1.000000  0.435494  0.297113  0.415227   \n",
       "s5   0.348155  0.266501  0.342381  0.435494  1.000000  0.341121  0.381385   \n",
       "s6   0.285774  0.300000  0.367065  0.297113  0.341121  1.000000  0.313050   \n",
       "s7   0.365148  0.279508  0.359092  0.415227  0.381385  0.313050  1.000000   \n",
       "s8   0.400892  0.327327  0.400501  0.486265  0.372194  0.218218  0.536745   \n",
       "s9   0.311805  0.272772  0.300376  0.445742  0.372194  0.218218  0.341565   \n",
       "s10  0.385758  0.188982  0.346844  0.386024  0.322329  0.188982  0.422577   \n",
       "\n",
       "           s8        s9       s10  \n",
       "s1   0.400892  0.311805  0.385758  \n",
       "s2   0.327327  0.272772  0.188982  \n",
       "s3   0.400501  0.300376  0.346844  \n",
       "s4   0.486265  0.445742  0.386024  \n",
       "s5   0.372194  0.372194  0.322329  \n",
       "s6   0.218218  0.218218  0.188982  \n",
       "s7   0.536745  0.341565  0.422577  \n",
       "s8   1.000000  0.285714  0.494872  \n",
       "s9   0.285714  1.000000  0.288675  \n",
       "s10  0.494872  0.288675  1.000000  "
      ]
     },
     "execution_count": 92,
     "metadata": {},
     "output_type": "execute_result"
    }
   ],
   "source": [
    "labels = [f\"s{i+1}\" for i in range(10)]\n",
    "df = pd.DataFrame(simMatrix, columns=labels, index=labels)\n",
    "df"
   ]
  },
  {
   "cell_type": "markdown",
   "id": "7db3f119-4464-43e2-ac5f-351e6526db01",
   "metadata": {},
   "source": [
    "I will write some code to compare sentences that have a high similarity score:"
   ]
  },
  {
   "cell_type": "code",
   "execution_count": 93,
   "id": "6081a313-7a0b-4504-9077-cc8af1d2d6f9",
   "metadata": {},
   "outputs": [],
   "source": [
    "def getWords(sent):\n",
    "    \"\"\"Get the words of a sentence after lowercasing and removing punctuation.\"\"\"\n",
    "    cleantext = \"\".join(char for char in sent.lower() if char not in string.punctuation)\n",
    "    cleanWords = cleantext.split()\n",
    "    return cleanWords"
   ]
  },
  {
   "cell_type": "code",
   "execution_count": 94,
   "id": "9ca5258d-495a-4ba3-b498-65b080bcf912",
   "metadata": {},
   "outputs": [],
   "source": [
    "def compareSentences(sent1, sent2):\n",
    "    \"\"\"Compare the content of two sentences.\"\"\"\n",
    "    words1 = getWords(sent1)\n",
    "    words2 = getWords(sent2)\n",
    "    commonWords = sorted([w for w in words1 if w in words2])\n",
    "    print(\"COMPARISON RESULTS\")\n",
    "    print(\"Sent1: \", sent1)\n",
    "    print(\"Sent2: \", sent2)\n",
    "    print(f\"Lengths of sentences: {len(words1)} and {len(words2)}. Words in common: {len(commonWords)}\")\n",
    "    print(\"Common words:\", commonWords)"
   ]
  },
  {
   "cell_type": "markdown",
   "id": "5021a92a-4bb4-4fc8-8689-4b13e9f31307",
   "metadata": {},
   "source": [
    "Let's check s1 and s4, in the group os Spring sentences:"
   ]
  },
  {
   "cell_type": "code",
   "execution_count": 95,
   "id": "f31164c1-f33b-4be3-a43b-ec5eb5c2bec3",
   "metadata": {},
   "outputs": [
    {
     "name": "stdout",
     "output_type": "stream",
     "text": [
      "COMPARISON RESULTS\n",
      "Sent1:  As spring unfolds, the warmth of the season encourages the first blossoms to open, signaling longer days ahead.\n",
      "Sent2:  The mild spring weather marks the transition from the cold winter to the inviting warmth of summer.\n",
      "Lengths of sentences: 18 and 17. Words in common: 7\n",
      "Common words: ['of', 'spring', 'the', 'the', 'the', 'to', 'warmth']\n"
     ]
    }
   ],
   "source": [
    "compareSentences(springSentences[0], springSentences[3])"
   ]
  },
  {
   "cell_type": "markdown",
   "id": "98fab4a1-d4f6-4572-bc2d-23814324f8c1",
   "metadata": {},
   "source": [
    "What about the sentences s7 and s8, in the group of Summer sentences?"
   ]
  },
  {
   "cell_type": "code",
   "execution_count": 96,
   "id": "24e7e464-6db4-4e99-9b17-77b911ffb9cd",
   "metadata": {},
   "outputs": [
    {
     "name": "stdout",
     "output_type": "stream",
     "text": [
      "COMPARISON RESULTS\n",
      "Sent1:  The summer season is synonymous with outdoor adventures and enjoying the extended daylight hours that began in spring.\n",
      "Sent2:  As summer arrives, the warm weather invites a continuation of the outdoor activities that people began enjoying in spring.\n",
      "Lengths of sentences: 18 and 19. Words in common: 9\n",
      "Common words: ['began', 'enjoying', 'in', 'outdoor', 'spring', 'summer', 'that', 'the', 'the']\n"
     ]
    }
   ],
   "source": [
    "compareSentences(summerSentences[1], summerSentences[2])"
   ]
  },
  {
   "cell_type": "code",
   "execution_count": null,
   "id": "f4d6a16c-48d8-48ab-bfd2-eeadbaf356ee",
   "metadata": {},
   "outputs": [],
   "source": []
  }
 ],
 "metadata": {
  "kernelspec": {
   "display_name": "Python 3 (ipykernel)",
   "language": "python",
   "name": "python3"
  },
  "language_info": {
   "codemirror_mode": {
    "name": "ipython",
    "version": 3
   },
   "file_extension": ".py",
   "mimetype": "text/x-python",
   "name": "python",
   "nbconvert_exporter": "python",
   "pygments_lexer": "ipython3",
   "version": "3.9.13"
  }
 },
 "nbformat": 4,
 "nbformat_minor": 5
}
